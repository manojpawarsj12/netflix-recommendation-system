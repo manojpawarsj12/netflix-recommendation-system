{
 "metadata": {
  "language_info": {
   "codemirror_mode": {
    "name": "ipython",
    "version": 3
   },
   "file_extension": ".py",
   "mimetype": "text/x-python",
   "name": "python",
   "nbconvert_exporter": "python",
   "pygments_lexer": "ipython3",
   "version": "3.8.8"
  },
  "orig_nbformat": 2,
  "kernelspec": {
   "name": "python388jvsc74a57bd0b402081a590fecfa28960cbf7cdd73e5f482d57ce43c5cbc01a50eccbf41cae7",
   "display_name": "Python 3.8.8 64-bit ('base': conda)"
  }
 },
 "nbformat": 4,
 "nbformat_minor": 2,
 "cells": [
  {
   "source": [
    "import pandas as pd\n",
    "import numpy as np\n",
    "\n",
    "from sklearn.metrics.pairwise import cosine_similarity\n",
    "from sklearn.feature_extraction.text import CountVectorizer"
   ],
   "cell_type": "code",
   "metadata": {},
   "execution_count": 1,
   "outputs": []
  },
  {
   "cell_type": "code",
   "execution_count": 2,
   "metadata": {},
   "outputs": [
    {
     "output_type": "execute_result",
     "data": {
      "text/plain": [
       "  show_id     type  title           director  \\\n",
       "0      s1  TV Show     3%                NaN   \n",
       "1      s2    Movie   7:19  Jorge Michel Grau   \n",
       "2      s3    Movie  23:59       Gilbert Chan   \n",
       "3      s4    Movie      9        Shane Acker   \n",
       "4      s5    Movie     21     Robert Luketic   \n",
       "\n",
       "                                                cast        country  \\\n",
       "0  João Miguel, Bianca Comparato, Michel Gomes, R...         Brazil   \n",
       "1  Demián Bichir, Héctor Bonilla, Oscar Serrano, ...         Mexico   \n",
       "2  Tedd Chan, Stella Chung, Henley Hii, Lawrence ...      Singapore   \n",
       "3  Elijah Wood, John C. Reilly, Jennifer Connelly...  United States   \n",
       "4  Jim Sturgess, Kevin Spacey, Kate Bosworth, Aar...  United States   \n",
       "\n",
       "          date_added  release_year rating   duration  \\\n",
       "0    August 14, 2020          2020  TV-MA  4 Seasons   \n",
       "1  December 23, 2016          2016  TV-MA     93 min   \n",
       "2  December 20, 2018          2011      R     78 min   \n",
       "3  November 16, 2017          2009  PG-13     80 min   \n",
       "4    January 1, 2020          2008  PG-13    123 min   \n",
       "\n",
       "                                           listed_in  \\\n",
       "0  International TV Shows, TV Dramas, TV Sci-Fi &...   \n",
       "1                       Dramas, International Movies   \n",
       "2                Horror Movies, International Movies   \n",
       "3  Action & Adventure, Independent Movies, Sci-Fi...   \n",
       "4                                             Dramas   \n",
       "\n",
       "                                         description  \n",
       "0  In a future where the elite inhabit an island ...  \n",
       "1  After a devastating earthquake hits Mexico Cit...  \n",
       "2  When an army recruit is found dead, his fellow...  \n",
       "3  In a postapocalyptic world, rag-doll robots hi...  \n",
       "4  A brilliant group of students become card-coun...  "
      ],
      "text/html": "<div>\n<style scoped>\n    .dataframe tbody tr th:only-of-type {\n        vertical-align: middle;\n    }\n\n    .dataframe tbody tr th {\n        vertical-align: top;\n    }\n\n    .dataframe thead th {\n        text-align: right;\n    }\n</style>\n<table border=\"1\" class=\"dataframe\">\n  <thead>\n    <tr style=\"text-align: right;\">\n      <th></th>\n      <th>show_id</th>\n      <th>type</th>\n      <th>title</th>\n      <th>director</th>\n      <th>cast</th>\n      <th>country</th>\n      <th>date_added</th>\n      <th>release_year</th>\n      <th>rating</th>\n      <th>duration</th>\n      <th>listed_in</th>\n      <th>description</th>\n    </tr>\n  </thead>\n  <tbody>\n    <tr>\n      <th>0</th>\n      <td>s1</td>\n      <td>TV Show</td>\n      <td>3%</td>\n      <td>NaN</td>\n      <td>João Miguel, Bianca Comparato, Michel Gomes, R...</td>\n      <td>Brazil</td>\n      <td>August 14, 2020</td>\n      <td>2020</td>\n      <td>TV-MA</td>\n      <td>4 Seasons</td>\n      <td>International TV Shows, TV Dramas, TV Sci-Fi &amp;...</td>\n      <td>In a future where the elite inhabit an island ...</td>\n    </tr>\n    <tr>\n      <th>1</th>\n      <td>s2</td>\n      <td>Movie</td>\n      <td>7:19</td>\n      <td>Jorge Michel Grau</td>\n      <td>Demián Bichir, Héctor Bonilla, Oscar Serrano, ...</td>\n      <td>Mexico</td>\n      <td>December 23, 2016</td>\n      <td>2016</td>\n      <td>TV-MA</td>\n      <td>93 min</td>\n      <td>Dramas, International Movies</td>\n      <td>After a devastating earthquake hits Mexico Cit...</td>\n    </tr>\n    <tr>\n      <th>2</th>\n      <td>s3</td>\n      <td>Movie</td>\n      <td>23:59</td>\n      <td>Gilbert Chan</td>\n      <td>Tedd Chan, Stella Chung, Henley Hii, Lawrence ...</td>\n      <td>Singapore</td>\n      <td>December 20, 2018</td>\n      <td>2011</td>\n      <td>R</td>\n      <td>78 min</td>\n      <td>Horror Movies, International Movies</td>\n      <td>When an army recruit is found dead, his fellow...</td>\n    </tr>\n    <tr>\n      <th>3</th>\n      <td>s4</td>\n      <td>Movie</td>\n      <td>9</td>\n      <td>Shane Acker</td>\n      <td>Elijah Wood, John C. Reilly, Jennifer Connelly...</td>\n      <td>United States</td>\n      <td>November 16, 2017</td>\n      <td>2009</td>\n      <td>PG-13</td>\n      <td>80 min</td>\n      <td>Action &amp; Adventure, Independent Movies, Sci-Fi...</td>\n      <td>In a postapocalyptic world, rag-doll robots hi...</td>\n    </tr>\n    <tr>\n      <th>4</th>\n      <td>s5</td>\n      <td>Movie</td>\n      <td>21</td>\n      <td>Robert Luketic</td>\n      <td>Jim Sturgess, Kevin Spacey, Kate Bosworth, Aar...</td>\n      <td>United States</td>\n      <td>January 1, 2020</td>\n      <td>2008</td>\n      <td>PG-13</td>\n      <td>123 min</td>\n      <td>Dramas</td>\n      <td>A brilliant group of students become card-coun...</td>\n    </tr>\n  </tbody>\n</table>\n</div>"
     },
     "metadata": {},
     "execution_count": 2
    }
   ],
   "source": [
    "netflix= pd.read_csv(\"netflix_titles.csv\")\n",
    "netflix.head()"
   ]
  },
  {
   "cell_type": "code",
   "execution_count": 3,
   "metadata": {
    "tags": []
   },
   "outputs": [
    {
     "output_type": "execute_result",
     "data": {
      "text/plain": [
       "  show_id     type title           director  \\\n",
       "0      s1  TV Show    3%                      \n",
       "1      s2    Movie  7:19  Jorge Michel Grau   \n",
       "\n",
       "                                                cast country  \\\n",
       "0  João Miguel, Bianca Comparato, Michel Gomes, R...  Brazil   \n",
       "1  Demián Bichir, Héctor Bonilla, Oscar Serrano, ...  Mexico   \n",
       "\n",
       "          date_added  release_year rating   duration  \\\n",
       "0    August 14, 2020          2020  TV-MA  4 Seasons   \n",
       "1  December 23, 2016          2016  TV-MA     93 min   \n",
       "\n",
       "                                           listed_in  \\\n",
       "0  International TV Shows, TV Dramas, TV Sci-Fi &...   \n",
       "1                       Dramas, International Movies   \n",
       "\n",
       "                                         description  \n",
       "0  In a future where the elite inhabit an island ...  \n",
       "1  After a devastating earthquake hits Mexico Cit...  "
      ],
      "text/html": "<div>\n<style scoped>\n    .dataframe tbody tr th:only-of-type {\n        vertical-align: middle;\n    }\n\n    .dataframe tbody tr th {\n        vertical-align: top;\n    }\n\n    .dataframe thead th {\n        text-align: right;\n    }\n</style>\n<table border=\"1\" class=\"dataframe\">\n  <thead>\n    <tr style=\"text-align: right;\">\n      <th></th>\n      <th>show_id</th>\n      <th>type</th>\n      <th>title</th>\n      <th>director</th>\n      <th>cast</th>\n      <th>country</th>\n      <th>date_added</th>\n      <th>release_year</th>\n      <th>rating</th>\n      <th>duration</th>\n      <th>listed_in</th>\n      <th>description</th>\n    </tr>\n  </thead>\n  <tbody>\n    <tr>\n      <th>0</th>\n      <td>s1</td>\n      <td>TV Show</td>\n      <td>3%</td>\n      <td></td>\n      <td>João Miguel, Bianca Comparato, Michel Gomes, R...</td>\n      <td>Brazil</td>\n      <td>August 14, 2020</td>\n      <td>2020</td>\n      <td>TV-MA</td>\n      <td>4 Seasons</td>\n      <td>International TV Shows, TV Dramas, TV Sci-Fi &amp;...</td>\n      <td>In a future where the elite inhabit an island ...</td>\n    </tr>\n    <tr>\n      <th>1</th>\n      <td>s2</td>\n      <td>Movie</td>\n      <td>7:19</td>\n      <td>Jorge Michel Grau</td>\n      <td>Demián Bichir, Héctor Bonilla, Oscar Serrano, ...</td>\n      <td>Mexico</td>\n      <td>December 23, 2016</td>\n      <td>2016</td>\n      <td>TV-MA</td>\n      <td>93 min</td>\n      <td>Dramas, International Movies</td>\n      <td>After a devastating earthquake hits Mexico Cit...</td>\n    </tr>\n  </tbody>\n</table>\n</div>"
     },
     "metadata": {},
     "execution_count": 3
    }
   ],
   "source": [
    "filledna=netflix.fillna('')\n",
    "filledna.head(2)\n"
   ]
  },
  {
   "cell_type": "code",
   "execution_count": 29,
   "metadata": {},
   "outputs": [
    {
     "output_type": "execute_result",
     "data": {
      "text/plain": [
       "   title           director  \\\n",
       "0   7:19  Jorge Michel Grau   \n",
       "1  23:59       Gilbert Chan   \n",
       "2      9        Shane Acker   \n",
       "3     21     Robert Luketic   \n",
       "4    122    Yasir Al Yasiri   \n",
       "\n",
       "                                                cast        country rating  \\\n",
       "0  Demián Bichir, Héctor Bonilla, Oscar Serrano, ...         Mexico  TV-MA   \n",
       "1  Tedd Chan, Stella Chung, Henley Hii, Lawrence ...      Singapore      R   \n",
       "2  Elijah Wood, John C. Reilly, Jennifer Connelly...  United States  PG-13   \n",
       "3  Jim Sturgess, Kevin Spacey, Kate Bosworth, Aar...  United States  PG-13   \n",
       "4  Amina Khalil, Ahmed Dawood, Tarek Lotfy, Ahmed...          Egypt  TV-MA   \n",
       "\n",
       "                                           listed_in  \\\n",
       "0                       Dramas, International Movies   \n",
       "1                Horror Movies, International Movies   \n",
       "2  Action & Adventure, Independent Movies, Sci-Fi...   \n",
       "3                                             Dramas   \n",
       "4                Horror Movies, International Movies   \n",
       "\n",
       "                                         description  \n",
       "0  After a devastating earthquake hits Mexico Cit...  \n",
       "1  When an army recruit is found dead, his fellow...  \n",
       "2  In a postapocalyptic world, rag-doll robots hi...  \n",
       "3  A brilliant group of students become card-coun...  \n",
       "4  After an awful accident, a couple admitted to ...  "
      ],
      "text/html": "<div>\n<style scoped>\n    .dataframe tbody tr th:only-of-type {\n        vertical-align: middle;\n    }\n\n    .dataframe tbody tr th {\n        vertical-align: top;\n    }\n\n    .dataframe thead th {\n        text-align: right;\n    }\n</style>\n<table border=\"1\" class=\"dataframe\">\n  <thead>\n    <tr style=\"text-align: right;\">\n      <th></th>\n      <th>title</th>\n      <th>director</th>\n      <th>cast</th>\n      <th>country</th>\n      <th>rating</th>\n      <th>listed_in</th>\n      <th>description</th>\n    </tr>\n  </thead>\n  <tbody>\n    <tr>\n      <th>0</th>\n      <td>7:19</td>\n      <td>Jorge Michel Grau</td>\n      <td>Demián Bichir, Héctor Bonilla, Oscar Serrano, ...</td>\n      <td>Mexico</td>\n      <td>TV-MA</td>\n      <td>Dramas, International Movies</td>\n      <td>After a devastating earthquake hits Mexico Cit...</td>\n    </tr>\n    <tr>\n      <th>1</th>\n      <td>23:59</td>\n      <td>Gilbert Chan</td>\n      <td>Tedd Chan, Stella Chung, Henley Hii, Lawrence ...</td>\n      <td>Singapore</td>\n      <td>R</td>\n      <td>Horror Movies, International Movies</td>\n      <td>When an army recruit is found dead, his fellow...</td>\n    </tr>\n    <tr>\n      <th>2</th>\n      <td>9</td>\n      <td>Shane Acker</td>\n      <td>Elijah Wood, John C. Reilly, Jennifer Connelly...</td>\n      <td>United States</td>\n      <td>PG-13</td>\n      <td>Action &amp; Adventure, Independent Movies, Sci-Fi...</td>\n      <td>In a postapocalyptic world, rag-doll robots hi...</td>\n    </tr>\n    <tr>\n      <th>3</th>\n      <td>21</td>\n      <td>Robert Luketic</td>\n      <td>Jim Sturgess, Kevin Spacey, Kate Bosworth, Aar...</td>\n      <td>United States</td>\n      <td>PG-13</td>\n      <td>Dramas</td>\n      <td>A brilliant group of students become card-coun...</td>\n    </tr>\n    <tr>\n      <th>4</th>\n      <td>122</td>\n      <td>Yasir Al Yasiri</td>\n      <td>Amina Khalil, Ahmed Dawood, Tarek Lotfy, Ahmed...</td>\n      <td>Egypt</td>\n      <td>TV-MA</td>\n      <td>Horror Movies, International Movies</td>\n      <td>After an awful accident, a couple admitted to ...</td>\n    </tr>\n  </tbody>\n</table>\n</div>"
     },
     "metadata": {},
     "execution_count": 29
    }
   ],
   "source": [
    "movies = data[data['type'] == 'Movie'].reset_index()\n",
    "movies = movies.drop(['index', 'show_id', 'type', 'date_added', 'release_year', 'duration'], axis=1)\n",
    "\n",
    "movies.head()"
   ]
  },
  {
   "cell_type": "code",
   "execution_count": 30,
   "metadata": {},
   "outputs": [
    {
     "output_type": "execute_result",
     "data": {
      "text/plain": [
       "             title       director  \\\n",
       "0               46    Serdar Akar   \n",
       "1        7 (Seven)    Nizar Shafi   \n",
       "2  A Queen Is Born   Carla Barros   \n",
       "3         A.I.C.O.  Kazuya Murata   \n",
       "4     Abby Hatcher    Kyran Kelly   \n",
       "\n",
       "                                                cast                country  \\\n",
       "0  Erdal Beşikçioğlu, Yasemin Allen, Melis Birkan...                 Turkey   \n",
       "1  Rahman, Havish, Regina Cassandra, Nandita Swet...                  India   \n",
       "2                      Gloria Groove, Alexia Twister                 Brazil   \n",
       "3  Haruka Shiraishi, Yusuke Kobayashi, Makoto Fur...                  Japan   \n",
       "4  Macy Drouin, Wyatt White, Paul Sun-Hyung Lee, ...  United States, Canada   \n",
       "\n",
       "  rating                                        listed_in  \\\n",
       "0  TV-MA  International TV Shows, TV Dramas, TV Mysteries   \n",
       "1  TV-14                                         TV Shows   \n",
       "2  TV-14               International TV Shows, Reality TV   \n",
       "3  TV-14             Anime Series, International TV Shows   \n",
       "4   TV-Y                                         Kids' TV   \n",
       "\n",
       "                                         description  \n",
       "0  A genetics professor experiments with a treatm...  \n",
       "1  Multiple women report their husbands as missin...  \n",
       "2  Gloria Groove and Alexia Twister make drag dre...  \n",
       "3  Everything Aiko knew was a lie. Now she's join...  \n",
       "4  A big-hearted girl helps her Fuzzly friends wh...  "
      ],
      "text/html": "<div>\n<style scoped>\n    .dataframe tbody tr th:only-of-type {\n        vertical-align: middle;\n    }\n\n    .dataframe tbody tr th {\n        vertical-align: top;\n    }\n\n    .dataframe thead th {\n        text-align: right;\n    }\n</style>\n<table border=\"1\" class=\"dataframe\">\n  <thead>\n    <tr style=\"text-align: right;\">\n      <th></th>\n      <th>title</th>\n      <th>director</th>\n      <th>cast</th>\n      <th>country</th>\n      <th>rating</th>\n      <th>listed_in</th>\n      <th>description</th>\n    </tr>\n  </thead>\n  <tbody>\n    <tr>\n      <th>0</th>\n      <td>46</td>\n      <td>Serdar Akar</td>\n      <td>Erdal Beşikçioğlu, Yasemin Allen, Melis Birkan...</td>\n      <td>Turkey</td>\n      <td>TV-MA</td>\n      <td>International TV Shows, TV Dramas, TV Mysteries</td>\n      <td>A genetics professor experiments with a treatm...</td>\n    </tr>\n    <tr>\n      <th>1</th>\n      <td>7 (Seven)</td>\n      <td>Nizar Shafi</td>\n      <td>Rahman, Havish, Regina Cassandra, Nandita Swet...</td>\n      <td>India</td>\n      <td>TV-14</td>\n      <td>TV Shows</td>\n      <td>Multiple women report their husbands as missin...</td>\n    </tr>\n    <tr>\n      <th>2</th>\n      <td>A Queen Is Born</td>\n      <td>Carla Barros</td>\n      <td>Gloria Groove, Alexia Twister</td>\n      <td>Brazil</td>\n      <td>TV-14</td>\n      <td>International TV Shows, Reality TV</td>\n      <td>Gloria Groove and Alexia Twister make drag dre...</td>\n    </tr>\n    <tr>\n      <th>3</th>\n      <td>A.I.C.O.</td>\n      <td>Kazuya Murata</td>\n      <td>Haruka Shiraishi, Yusuke Kobayashi, Makoto Fur...</td>\n      <td>Japan</td>\n      <td>TV-14</td>\n      <td>Anime Series, International TV Shows</td>\n      <td>Everything Aiko knew was a lie. Now she's join...</td>\n    </tr>\n    <tr>\n      <th>4</th>\n      <td>Abby Hatcher</td>\n      <td>Kyran Kelly</td>\n      <td>Macy Drouin, Wyatt White, Paul Sun-Hyung Lee, ...</td>\n      <td>United States, Canada</td>\n      <td>TV-Y</td>\n      <td>Kids' TV</td>\n      <td>A big-hearted girl helps her Fuzzly friends wh...</td>\n    </tr>\n  </tbody>\n</table>\n</div>"
     },
     "metadata": {},
     "execution_count": 30
    }
   ],
   "source": [
    "tv = data[data['type'] == 'TV Show'].reset_index()\n",
    "tv = tv.drop(['index', 'show_id', 'type', 'date_added', 'release_year', 'duration'], axis=1)\n",
    "\n",
    "tv.head()\n",
    "for i,row in tv.iterrows():\n",
    "    "
   ]
  },
  {
   "cell_type": "code",
   "execution_count": 31,
   "metadata": {},
   "outputs": [],
   "source": [
    "from sklearn.feature_extraction.text import TfidfVectorizer\n"
   ]
  },
  {
   "cell_type": "code",
   "execution_count": 4,
   "metadata": {},
   "outputs": [],
   "source": [
    "def clean_data(x):\n",
    "        return str.lower(x.replace(\" \", \"\"))\n",
    "def create_soup(x):\n",
    "    return x['title']+ ' ' + x['director'] + ' ' + x['cast'] + ' ' +x['listed_in']+' '+ x['description']"
   ]
  },
  {
   "cell_type": "code",
   "execution_count": 5,
   "metadata": {},
   "outputs": [],
   "source": [
    "features=['title','director','cast','listed_in','description']\n",
    "filledna=filledna[features]"
   ]
  },
  {
   "cell_type": "code",
   "execution_count": 6,
   "metadata": {},
   "outputs": [
    {
     "output_type": "execute_result",
     "data": {
      "text/plain": [
       "  title         director                                               cast  \\\n",
       "0    3%                   joãomiguel,biancacomparato,michelgomes,rodolfo...   \n",
       "1  7:19  jorgemichelgrau  demiánbichir,héctorbonilla,oscarserrano,azalia...   \n",
       "\n",
       "                                        listed_in  \\\n",
       "0  internationaltvshows,tvdramas,tvsci-fi&fantasy   \n",
       "1                      dramas,internationalmovies   \n",
       "\n",
       "                                         description  \n",
       "0  inafuturewheretheeliteinhabitanislandparadisef...  \n",
       "1  afteradevastatingearthquakehitsmexicocity,trap...  "
      ],
      "text/html": "<div>\n<style scoped>\n    .dataframe tbody tr th:only-of-type {\n        vertical-align: middle;\n    }\n\n    .dataframe tbody tr th {\n        vertical-align: top;\n    }\n\n    .dataframe thead th {\n        text-align: right;\n    }\n</style>\n<table border=\"1\" class=\"dataframe\">\n  <thead>\n    <tr style=\"text-align: right;\">\n      <th></th>\n      <th>title</th>\n      <th>director</th>\n      <th>cast</th>\n      <th>listed_in</th>\n      <th>description</th>\n    </tr>\n  </thead>\n  <tbody>\n    <tr>\n      <th>0</th>\n      <td>3%</td>\n      <td></td>\n      <td>joãomiguel,biancacomparato,michelgomes,rodolfo...</td>\n      <td>internationaltvshows,tvdramas,tvsci-fi&amp;fantasy</td>\n      <td>inafuturewheretheeliteinhabitanislandparadisef...</td>\n    </tr>\n    <tr>\n      <th>1</th>\n      <td>7:19</td>\n      <td>jorgemichelgrau</td>\n      <td>demiánbichir,héctorbonilla,oscarserrano,azalia...</td>\n      <td>dramas,internationalmovies</td>\n      <td>afteradevastatingearthquakehitsmexicocity,trap...</td>\n    </tr>\n  </tbody>\n</table>\n</div>"
     },
     "metadata": {},
     "execution_count": 6
    }
   ],
   "source": [
    "for feature in features:\n",
    "    filledna[feature] = filledna[feature].apply(clean_data)\n",
    "    \n",
    "filledna.head(2)"
   ]
  },
  {
   "cell_type": "code",
   "execution_count": 7,
   "metadata": {},
   "outputs": [
    {
     "output_type": "execute_result",
     "data": {
      "text/plain": [
       "  title         director                                               cast  \\\n",
       "0    3%                   joãomiguel,biancacomparato,michelgomes,rodolfo...   \n",
       "1  7:19  jorgemichelgrau  demiánbichir,héctorbonilla,oscarserrano,azalia...   \n",
       "\n",
       "                                        listed_in  \\\n",
       "0  internationaltvshows,tvdramas,tvsci-fi&fantasy   \n",
       "1                      dramas,internationalmovies   \n",
       "\n",
       "                                         description  \\\n",
       "0  inafuturewheretheeliteinhabitanislandparadisef...   \n",
       "1  afteradevastatingearthquakehitsmexicocity,trap...   \n",
       "\n",
       "                                                soup  \n",
       "0  3%  joãomiguel,biancacomparato,michelgomes,rod...  \n",
       "1  7:19 jorgemichelgrau demiánbichir,héctorbonill...  "
      ],
      "text/html": "<div>\n<style scoped>\n    .dataframe tbody tr th:only-of-type {\n        vertical-align: middle;\n    }\n\n    .dataframe tbody tr th {\n        vertical-align: top;\n    }\n\n    .dataframe thead th {\n        text-align: right;\n    }\n</style>\n<table border=\"1\" class=\"dataframe\">\n  <thead>\n    <tr style=\"text-align: right;\">\n      <th></th>\n      <th>title</th>\n      <th>director</th>\n      <th>cast</th>\n      <th>listed_in</th>\n      <th>description</th>\n      <th>soup</th>\n    </tr>\n  </thead>\n  <tbody>\n    <tr>\n      <th>0</th>\n      <td>3%</td>\n      <td></td>\n      <td>joãomiguel,biancacomparato,michelgomes,rodolfo...</td>\n      <td>internationaltvshows,tvdramas,tvsci-fi&amp;fantasy</td>\n      <td>inafuturewheretheeliteinhabitanislandparadisef...</td>\n      <td>3%  joãomiguel,biancacomparato,michelgomes,rod...</td>\n    </tr>\n    <tr>\n      <th>1</th>\n      <td>7:19</td>\n      <td>jorgemichelgrau</td>\n      <td>demiánbichir,héctorbonilla,oscarserrano,azalia...</td>\n      <td>dramas,internationalmovies</td>\n      <td>afteradevastatingearthquakehitsmexicocity,trap...</td>\n      <td>7:19 jorgemichelgrau demiánbichir,héctorbonill...</td>\n    </tr>\n  </tbody>\n</table>\n</div>"
     },
     "metadata": {},
     "execution_count": 7
    }
   ],
   "source": [
    "filledna['soup'] = filledna.apply(create_soup, axis=1)\n",
    "filledna.head(2)"
   ]
  },
  {
   "cell_type": "code",
   "execution_count": 18,
   "metadata": {},
   "outputs": [],
   "source": [
    "from sklearn.feature_extraction.text import CountVectorizer\n",
    "from annoy import AnnoyIndex\n",
    "\n",
    "count = CountVectorizer(stop_words='english')\n",
    "count_matrix = count.fit_transform(filledna['soup'])\n",
    "count_matrix=count_matrix.toarray()"
   ]
  },
  {
   "cell_type": "code",
   "execution_count": 19,
   "metadata": {},
   "outputs": [],
   "source": [
    "filledna=filledna.reset_index()\n",
    "indices = pd.Series(filledna.index, index=filledna['title'])"
   ]
  },
  {
   "cell_type": "code",
   "execution_count": 55,
   "metadata": {},
   "outputs": [
    {
     "output_type": "stream",
     "name": "stdout",
     "text": [
      "[0 0 0 ... 0 0 0]\n"
     ]
    }
   ],
   "source": [
    "print(count_matrix[2])"
   ]
  },
  {
   "cell_type": "code",
   "execution_count": 28,
   "metadata": {},
   "outputs": [
    {
     "output_type": "stream",
     "name": "stdout",
     "text": [
      "7787\n",
      "done\n"
     ]
    }
   ],
   "source": [
    "f= len(count_matrix)\n",
    "print(f)\n",
    "t = AnnoyIndex(68313, 'angular')\n",
    "for i in range(f):\n",
    "    t.add_item(i,count_matrix[i])\n",
    "t.build(50,n_jobs=-1)\n",
    "t.save('annoy.ann')\n",
    "print(\"done\")"
   ]
  },
  {
   "cell_type": "code",
   "execution_count": 52,
   "metadata": {},
   "outputs": [],
   "source": [
    "def get_recommendations_new(title):\n",
    "    \n",
    "    title=title.replace(' ','').lower()\n",
    "    idx = indices[title]\n",
    "    print(idx)\n",
    "    # Get the pairwsie similarity scores of all movies with that movie\n",
    "    u = AnnoyIndex(68313, 'angular')\n",
    "    u.load('annoy.ann') # super fast, will just mmap the file\n",
    "    similar=u.get_nns_by_item(idx, 10)\n",
    "    return netflix['title'].iloc[similar]"
   ]
  },
  {
   "cell_type": "code",
   "execution_count": 53,
   "metadata": {},
   "outputs": [
    {
     "output_type": "stream",
     "name": "stdout",
     "text": [
      "4872\n",
      "4872                              PK\n",
      "371     Alarmoty in the Land of Fire\n",
      "5386                    Santo Cachón\n",
      "2571                          Haapus\n",
      "6596            The Light of My Eyes\n",
      "52              100 Days Of Solitude\n",
      "208                 A new Capitalism\n",
      "311                           Adhugo\n",
      "328                   After the Raid\n",
      "955             Black Man White Skin\n",
      "Name: title, dtype: object\n"
     ]
    }
   ],
   "source": [
    "print(get_recommendations_new(\"PK\"))"
   ]
  },
  {
   "cell_type": "code",
   "execution_count": null,
   "metadata": {},
   "outputs": [],
   "source": []
  }
 ]
}